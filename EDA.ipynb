{
 "cells": [
  {
   "cell_type": "code",
   "execution_count": 1,
   "metadata": {},
   "outputs": [],
   "source": [
    "import pandas\n",
    "import matplotlib.pyplot as plt"
   ]
  },
  {
   "cell_type": "code",
   "execution_count": null,
   "metadata": {},
   "outputs": [],
   "source": [
    "# Features to have\n",
    "# ◦ Rank\n",
    "# ◦ School (HD2021)\n",
    "# ◦ State (HD2021)\n",
    "# ◦ Public/Private\n",
    "# ◦ Peer Assessment Score (Historical)\n",
    "# ◦ High School Counselor Assessment Score\n",
    "# ◦ Graduation and Retention Rank\n",
    "# ◦ Average Freshman Retention Rate\n",
    "# ◦ Predicted Graduation Rate\n",
    "# ◦ Actual Graduation Rate\n",
    "# ◦ Over/Under Performance\n",
    "# ◦ Faculty Resource Rank\n",
    "# ◦ % of Classes under 20\n",
    "# ◦ % of Classes over 50 or more\n",
    "# ◦ Student/Faculty ratio\n",
    "# ◦ % of Full-time Faculty\n",
    "# ◦ Selectivity Rank\n",
    "# ◦ SAT/ACT 25th-75th percentile\n",
    "# ◦ Freshmen in Top 10% of High School Class\n",
    "# ◦ Acceptance Rate\n",
    "# ◦ Financial Resources Rank\n",
    "# ◦ Alumni Giving Rank\n",
    "# ◦ Average Alumni Giving Rate"
   ]
  },
  {
   "cell_type": "code",
   "execution_count": null,
   "metadata": {},
   "outputs": [],
   "source": []
  }
 ],
 "metadata": {
  "kernelspec": {
   "display_name": "Python 3",
   "language": "python",
   "name": "python3"
  },
  "language_info": {
   "codemirror_mode": {
    "name": "ipython",
    "version": 3
   },
   "file_extension": ".py",
   "mimetype": "text/x-python",
   "name": "python",
   "nbconvert_exporter": "python",
   "pygments_lexer": "ipython3",
   "version": "3.11.1 (tags/v3.11.1:a7a450f, Dec  6 2022, 19:58:39) [MSC v.1934 64 bit (AMD64)]"
  },
  "orig_nbformat": 4,
  "vscode": {
   "interpreter": {
    "hash": "5e82f7256a3b673b294803648c093afce1d61e69987766bf38b2864e039212b5"
   }
  }
 },
 "nbformat": 4,
 "nbformat_minor": 2
}
