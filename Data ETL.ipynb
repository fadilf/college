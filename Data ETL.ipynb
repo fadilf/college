{
 "cells": [
  {
   "cell_type": "code",
   "execution_count": 2,
   "metadata": {},
   "outputs": [],
   "source": [
    "import requests\n",
    "from tqdm import tqdm\n",
    "import os\n",
    "import zipfile\n",
    "import pandas as pd"
   ]
  },
  {
   "cell_type": "code",
   "execution_count": 275,
   "metadata": {},
   "outputs": [
    {
     "data": {
      "text/plain": [
       "37656"
      ]
     },
     "execution_count": 275,
     "metadata": {},
     "output_type": "execute_result"
    }
   ],
   "source": [
    "# US News Historical Data\n",
    "usnews = \"https://andyreiter.com/wp-content/uploads/2022/09/US-News-Rankings-Universities-Through-2023.xlsx\"\n",
    "r = requests.get(usnews, allow_redirects=True)\n",
    "open('./downloads/usnews.xlsx', 'wb').write(r.content)"
   ]
  },
  {
   "attachments": {},
   "cell_type": "markdown",
   "metadata": {},
   "source": [
    "#### Initial feature selection\n",
    "\n",
    "**Features discussed in Reed paper and corresponding tables in 2021:**\n",
    "- Rank (US News historical data)\n",
    "- Peer Assessment Score (Historical/Twitter/Page-Rank)\n",
    "- School (HD2021)\n",
    "- State (HD2021)\n",
    "- Public/Private (HD2021)\n",
    "- Average Freshman Retention Rate (EF2021D)\n",
    "- Student/Faculty ratio (EF2021D)\n",
    "- Actual Graduation Rate (GR2021)\n",
    "- Graduation Rate among PELL recipients (GR2021_PELL_SSL)\n",
    "- % of Full-time Faculty (EAP2021)\n",
    "- Faculty salaries (SAL2021_IS)\n",
    "- SAT/ACT 25th-75th percentile (ADM2021)\n",
    "- Acceptance Rate (ADM2021)\n",
    "- Expenditure per FTE student (F2021_F1A, F2021_F2)\n",
    "- Endowment size per FTE student (F2021_F1A, F2021_F2)\n",
    "\n",
    "<br>  \n",
    "\n",
    "**IPEDS Tables to download in 2021:**\n",
    "- HD2021\n",
    "- EF2021D\n",
    "- GR2021\n",
    "- GR2021_PELL_SSL\n",
    "- EAP2021\n",
    "- SAL2021_IS\n",
    "- ADM2021\n",
    "- F2021_F1A\n",
    "- F2021_F2"
   ]
  },
  {
   "cell_type": "code",
   "execution_count": 211,
   "metadata": {},
   "outputs": [],
   "source": [
    "start_year = 2016\n",
    "end_year = 2021\n",
    "IPEDS_files = {}\n",
    "for current_year in range(start_year, end_year + 1):\n",
    "    current_files = [\n",
    "        f\"HD{current_year}.zip\",\n",
    "        f\"EF{current_year}D.zip\",\n",
    "        f\"GR{current_year}.zip\",\n",
    "        f\"GR{current_year}_PELL_SSL.zip\",\n",
    "        f\"EAP{current_year}.zip\",\n",
    "        f\"SAL{current_year}_IS.zip\",\n",
    "        f\"ADM{current_year}.zip\",\n",
    "        f\"F{current_year-2001}{current_year-2000}_F1A.zip\",\n",
    "        f\"F{current_year-2001}{current_year-2000}_F2.zip\",\n",
    "    ]\n",
    "    IPEDS_files[current_year] = current_files"
   ]
  },
  {
   "attachments": {},
   "cell_type": "markdown",
   "metadata": {},
   "source": [
    "#### IPEDS File Downloading"
   ]
  },
  {
   "cell_type": "code",
   "execution_count": 214,
   "metadata": {},
   "outputs": [
    {
     "name": "stderr",
     "output_type": "stream",
     "text": [
      "2016 files: 100%|██████████| 9/9 [00:00<00:00, 6081.64it/s]\n",
      "2017 files: 100%|██████████| 9/9 [00:00<00:00, 13175.82it/s]\n",
      "2018 files: 100%|██████████| 9/9 [00:00<00:00, 4405.78it/s]\n",
      "2019 files: 100%|██████████| 9/9 [00:00<00:00, 6843.50it/s]\n",
      "2020 files: 100%|██████████| 9/9 [00:00<00:00, 12212.47it/s]\n",
      "2021 files: 100%|██████████| 9/9 [00:00<00:00, 13657.29it/s]\n",
      "Years: 100%|██████████| 6/6 [00:00<00:00, 226.39it/s]\n"
     ]
    }
   ],
   "source": [
    "url_prefix = \"https://nces.ed.gov/ipeds/datacenter/data/\"\n",
    "for current_year in tqdm(range(start_year, end_year + 1), desc=\"Years\"):\n",
    "    year_dir = f\"./downloads/{current_year}/\"\n",
    "    dir_exists = os.path.exists(year_dir)\n",
    "    if not dir_exists:\n",
    "        os.makedirs(year_dir)\n",
    "    for file_name in tqdm(IPEDS_files[current_year], desc=f\"{current_year} files\"):\n",
    "        file_path = year_dir + file_name\n",
    "        if not os.path.exists(file_path):\n",
    "            r = requests.get(url_prefix + file_name, allow_redirects=True)\n",
    "            open(year_dir + file_name, 'wb').write(r.content)"
   ]
  },
  {
   "attachments": {},
   "cell_type": "markdown",
   "metadata": {},
   "source": [
    "#### IPEDS File Unzipping"
   ]
  },
  {
   "cell_type": "code",
   "execution_count": 213,
   "metadata": {},
   "outputs": [
    {
     "name": "stderr",
     "output_type": "stream",
     "text": [
      "2016 files: 100%|██████████| 9/9 [00:00<00:00, 6012.86it/s]\n",
      "2017 files: 100%|██████████| 9/9 [00:00<00:00, 6267.43it/s]\n",
      "2018 files: 100%|██████████| 9/9 [00:00<00:00, 17541.23it/s]\n",
      "2019 files: 100%|██████████| 9/9 [00:00<00:00, 36864.00it/s]\n",
      "2020 files: 100%|██████████| 9/9 [00:00<00:00, 20695.58it/s]\n",
      "2021 files: 100%|██████████| 9/9 [00:00<00:00, 22442.77it/s]\n",
      "Years: 100%|██████████| 6/6 [00:00<00:00, 305.42it/s]\n"
     ]
    }
   ],
   "source": [
    "for current_year in tqdm(range(start_year, end_year + 1), desc=\"Years\"):\n",
    "    year_dir = f\"./downloads/{current_year}/\"\n",
    "    for zip_file_name in tqdm(IPEDS_files[current_year], desc=f\"{current_year} files\"):\n",
    "        csv_file_name = zip_file_name.split(\".\")[0].lower() + \".csv\"\n",
    "        if not os.path.exists(year_dir + csv_file_name):\n",
    "            with zipfile.ZipFile(year_dir + zip_file_name, 'r') as zip_ref:\n",
    "                zip_ref.extractall(year_dir)"
   ]
  },
  {
   "attachments": {},
   "cell_type": "markdown",
   "metadata": {},
   "source": [
    "#### IPEDS Feature selection"
   ]
  },
  {
   "cell_type": "code",
   "execution_count": 5,
   "metadata": {},
   "outputs": [],
   "source": [
    "def latest_csv(file_name_no_ext, csv_set):\n",
    "    csv_name = file_name_no_ext + \".csv\"\n",
    "    csv_revised_name = file_name_no_ext + \"_rv.csv\"\n",
    "    if csv_revised_name in csv_set:\n",
    "        csv_name = csv_revised_name\n",
    "    return csv_name"
   ]
  },
  {
   "cell_type": "code",
   "execution_count": 216,
   "metadata": {},
   "outputs": [],
   "source": [
    "def get_csv_mapping(year_dir, zip_list):\n",
    "    extracted_csv_files = set(filter(lambda x: x.endswith(\".csv\"),os.listdir(year_dir)))\n",
    "    file_name_no_ext_list = [file_name.split(\".\")[0].lower() for file_name in zip_list]\n",
    "    return {\n",
    "        \"HD\": year_dir + latest_csv(file_name_no_ext_list[0], extracted_csv_files),\n",
    "        \"EF\": year_dir + latest_csv(file_name_no_ext_list[1], extracted_csv_files),\n",
    "        \"GR\": year_dir + latest_csv(file_name_no_ext_list[2], extracted_csv_files),\n",
    "        \"GR_PELL\": year_dir + latest_csv(file_name_no_ext_list[3], extracted_csv_files),\n",
    "        \"EAP\": year_dir + latest_csv(file_name_no_ext_list[4], extracted_csv_files),\n",
    "        \"SAL\": year_dir + latest_csv(file_name_no_ext_list[5], extracted_csv_files),\n",
    "        \"ADM\": year_dir + latest_csv(file_name_no_ext_list[6], extracted_csv_files),\n",
    "        \"F1A\": year_dir + latest_csv(file_name_no_ext_list[7], extracted_csv_files),\n",
    "        \"F2\": year_dir + latest_csv(file_name_no_ext_list[8], extracted_csv_files),\n",
    "    }"
   ]
  },
  {
   "cell_type": "code",
   "execution_count": 300,
   "metadata": {},
   "outputs": [
    {
     "name": "stderr",
     "output_type": "stream",
     "text": [
      "Years: 100%|██████████| 6/6 [00:05<00:00,  1.02it/s]\n"
     ]
    }
   ],
   "source": [
    "usnews = pd.read_excel(\"./downloads/usnews.xlsx\", header=1).rename(columns={\"IPEDS ID\": \"UNITID\"})\n",
    "for current_year in tqdm(range(start_year, end_year + 1), desc=\"Years\"):\n",
    "    year_dir = f\"./downloads/{current_year}/\"\n",
    "    csv_files = set(filter(lambda x: x.endswith(\".csv\"),os.listdir(year_dir)))\n",
    "    csv_mapping = get_csv_mapping(year_dir, IPEDS_files[current_year])\n",
    "    \n",
    "    year_df = usnews[[\"UNITID\", current_year]].rename(columns={current_year: \"USNEWSRANK\"})\n",
    "    \n",
    "    HD = pd.read_csv(csv_mapping[\"HD\"], encoding='latin-1')\n",
    "    HD = HD[[\"UNITID\", \"INSTNM\", \"IALIAS\", \"COUNTYNM\", \"CITY\", \"STABBR\", \"ZIP\", \"WEBADDR\", \"CONTROL\"]]\n",
    "    year_df = pd.merge(year_df, HD, on='UNITID')\n",
    "\n",
    "    EF = pd.read_csv(csv_mapping[\"EF\"], encoding='latin-1').rename(columns=lambda x: x.strip())\n",
    "    EF = EF[[\"UNITID\", \"RET_PCF\", \"STUFACR\", \"RRFTCT\"]].rename(columns={\"RET_PCF\": \"RETENTION\", \"RRFTCT\": \"FTCT\"})\n",
    "    year_df = pd.merge(year_df, EF, on='UNITID')\n",
    "\n",
    "    GR = pd.read_csv(csv_mapping[\"GR\"], encoding='latin-1')\n",
    "    totals = GR[(GR[\"CHRTSTAT\"] == 12) & (GR[\"GRTYPE\"] == 2)][[\"UNITID\", \"GRTOTLT\"]].rename(columns={\"GRTOTLT\": \"COHORT\"})\n",
    "    grads = GR[(GR[\"CHRTSTAT\"] == 13) & (GR[\"GRTYPE\"] == 3)][[\"UNITID\", \"GRTOTLT\"]].rename(columns={\"GRTOTLT\": \"GRADS\"})\n",
    "    GR = pd.merge(totals, grads, on='UNITID')\n",
    "    GR[\"GRRATE\"] = GR[\"GRADS\"] / GR[\"COHORT\"]\n",
    "    year_df = pd.merge(year_df, GR, on='UNITID')\n",
    "\n",
    "    GR_PELL = pd.read_csv(csv_mapping[\"GR_PELL\"], encoding='latin-1')\n",
    "    GR_PELL = GR_PELL[GR_PELL[\"PSGRTYPE\"] == 2][[\"UNITID\", \"PGADJCT\", \"PGCMBAC\"]].rename(columns={\"PGADJCT\": \"PELLCOHORT\", \"PGCMBAC\": \"PELLGRADS\",})\n",
    "    GR_PELL[\"PELLGRRATE\"] = GR_PELL[\"PELLGRADS\"] / GR_PELL[\"PELLCOHORT\"]\n",
    "    year_df = pd.merge(year_df, GR_PELL, on='UNITID')\n",
    "\n",
    "    EAP = pd.read_csv(csv_mapping[\"EAP\"], encoding='latin-1')\n",
    "    EAP = EAP[EAP[\"FACSTAT\"] == 10][[\"UNITID\", \"EAPFT\", \"EAPTOT\"]].rename(columns={\"EAPFT\": \"FACFT\", \"EAPTOT\": \"FACTOT\",})\n",
    "    EAP_SUM = EAP.groupby(\"UNITID\").sum(numeric_only=True)\n",
    "    EAP_SUM[\"FTPCT\"] = EAP_SUM[\"FACFT\"] / EAP_SUM[\"FACTOT\"]\n",
    "    year_df = pd.merge(year_df, EAP_SUM, on='UNITID')\n",
    "    \n",
    "    SAL = pd.read_csv(csv_mapping[\"SAL\"], encoding='latin-1').groupby(\"UNITID\").sum(numeric_only=True)\n",
    "    SAL = SAL[[\"SA09MAT\"]].rename(columns={\"SA09MAT\":\"AVGSAL\"})\n",
    "    year_df = pd.merge(year_df, SAL, on='UNITID')\n",
    "    \n",
    "    ADM = pd.read_csv(csv_mapping[\"ADM\"], encoding='latin-1')\n",
    "    ADM = ADM[[\"UNITID\", \"SATVR25\", \"SATVR75\", \"SATMT25\", \"SATMT75\", \"ACTCM25\", \"ACTCM75\", \"ADMSSN\", \"APPLCN\"]]\n",
    "    ADM[\"ACPTRT\"] = ADM[\"ADMSSN\"] / ADM[\"APPLCN\"]\n",
    "    year_df = pd.merge(year_df, ADM, on='UNITID')\n",
    "    \n",
    "    F1A = pd.read_csv(csv_mapping[\"F1A\"], encoding='latin-1').rename(columns=lambda x: x.strip())\n",
    "    F1A = F1A[[\"UNITID\", \"F1C011\", \"F1C021\", \"F1C031\", \"F1C051\", \"F1C061\", \"F1C071\", \"F1H02\"]].rename(columns={\n",
    "        \"F1C011\": \"EINSTRUCTIONAL\",\n",
    "        \"F1C021\": \"ERESEARCH\",\n",
    "        \"F1C031\": \"EPUBLIC\",\n",
    "        \"F1C051\": \"EACADEMIC\",\n",
    "        \"F1C061\": \"ESTUDENT\",\n",
    "        \"F1C071\": \"EINSTITUTIONAL\",\n",
    "        \"F1H02\": \"ENDOWMENT\"\n",
    "    })\n",
    "    F2 = pd.read_csv(csv_mapping[\"F2\"], encoding='latin-1').rename(columns=lambda x: x.strip())\n",
    "    F2 = F2[[\"UNITID\", \"F2E011\", \"F2E021\", \"F2E031\", \"F2E041\", \"F2E051\", \"F2E061\", \"F2H02\"]].rename(columns={\n",
    "        \"F2E011\": \"EINSTRUCTIONAL\",\n",
    "        \"F2E021\": \"ERESEARCH\",\n",
    "        \"F2E031\": \"EPUBLIC\",\n",
    "        \"F2E041\": \"EACADEMIC\",\n",
    "        \"F2E051\": \"ESTUDENT\",\n",
    "        \"F2E061\": \"EINSTITUTIONAL\",\n",
    "        \"F2H02\": \"ENDOWMENT\"\n",
    "    })\n",
    "    FINANCE = pd.concat([F1A, F2], ignore_index=True, axis=0)\n",
    "    year_df = pd.merge(year_df, FINANCE, on='UNITID')\n",
    "    year_df[\"EINSTRUCTIONAL\"] = year_df[\"EINSTRUCTIONAL\"] / year_df[\"FTCT\"]\n",
    "    year_df[\"ERESEARCH\"] = year_df[\"ERESEARCH\"] / year_df[\"FTCT\"]\n",
    "    year_df[\"EPUBLIC\"] = year_df[\"EPUBLIC\"] / year_df[\"FTCT\"]\n",
    "    year_df[\"EACADEMIC\"] = year_df[\"EACADEMIC\"] / year_df[\"FTCT\"]\n",
    "    year_df[\"ESTUDENT\"] = year_df[\"ESTUDENT\"] / year_df[\"FTCT\"]\n",
    "    year_df[\"EINSTITUTIONAL\"] = year_df[\"EINSTITUTIONAL\"] / year_df[\"FTCT\"]\n",
    "    year_df[\"ENDOWMENT\"] = year_df[\"ENDOWMENT\"] / year_df[\"FTCT\"]\n",
    "\n",
    "    output_path = f\"./by_year/{current_year}.csv\"\n",
    "    year_df.to_csv(output_path, index=False)"
   ]
  },
  {
   "cell_type": "code",
   "execution_count": 301,
   "metadata": {},
   "outputs": [
    {
     "data": {
      "text/html": [
       "<div>\n",
       "<style scoped>\n",
       "    .dataframe tbody tr th:only-of-type {\n",
       "        vertical-align: middle;\n",
       "    }\n",
       "\n",
       "    .dataframe tbody tr th {\n",
       "        vertical-align: top;\n",
       "    }\n",
       "\n",
       "    .dataframe thead th {\n",
       "        text-align: right;\n",
       "    }\n",
       "</style>\n",
       "<table border=\"1\" class=\"dataframe\">\n",
       "  <thead>\n",
       "    <tr style=\"text-align: right;\">\n",
       "      <th></th>\n",
       "      <th>UNITID</th>\n",
       "      <th>USNEWSRANK</th>\n",
       "      <th>INSTNM</th>\n",
       "      <th>IALIAS</th>\n",
       "      <th>COUNTYNM</th>\n",
       "      <th>CITY</th>\n",
       "      <th>STABBR</th>\n",
       "      <th>ZIP</th>\n",
       "      <th>WEBADDR</th>\n",
       "      <th>CONTROL</th>\n",
       "      <th>...</th>\n",
       "      <th>ADMSSN</th>\n",
       "      <th>APPLCN</th>\n",
       "      <th>ACPTRT</th>\n",
       "      <th>EINSTRUCTIONAL</th>\n",
       "      <th>ERESEARCH</th>\n",
       "      <th>EPUBLIC</th>\n",
       "      <th>EACADEMIC</th>\n",
       "      <th>ESTUDENT</th>\n",
       "      <th>EINSTITUTIONAL</th>\n",
       "      <th>ENDOWMENT</th>\n",
       "    </tr>\n",
       "  </thead>\n",
       "  <tbody>\n",
       "  </tbody>\n",
       "</table>\n",
       "<p>0 rows × 39 columns</p>\n",
       "</div>"
      ],
      "text/plain": [
       "Empty DataFrame\n",
       "Columns: [UNITID, USNEWSRANK, INSTNM, IALIAS, COUNTYNM, CITY, STABBR, ZIP, WEBADDR, CONTROL, RETENTION, STUFACR, FTCT, COHORT, GRADS, GRRATE, PELLCOHORT, PELLGRADS, PELLGRRATE, FACFT, FACTOT, FTPCT, AVGSAL, SATVR25, SATVR75, SATMT25, SATMT75, ACTCM25, ACTCM75, ADMSSN, APPLCN, ACPTRT, EINSTRUCTIONAL, ERESEARCH, EPUBLIC, EACADEMIC, ESTUDENT, EINSTITUTIONAL, ENDOWMENT]\n",
       "Index: []\n",
       "\n",
       "[0 rows x 39 columns]"
      ]
     },
     "execution_count": 301,
     "metadata": {},
     "output_type": "execute_result"
    }
   ],
   "source": [
    "# Reed College\n",
    "year_df[year_df[\"UNITID\"] == 209922]"
   ]
  },
  {
   "cell_type": "code",
   "execution_count": 302,
   "metadata": {},
   "outputs": [
    {
     "data": {
      "text/html": [
       "<div>\n",
       "<style scoped>\n",
       "    .dataframe tbody tr th:only-of-type {\n",
       "        vertical-align: middle;\n",
       "    }\n",
       "\n",
       "    .dataframe tbody tr th {\n",
       "        vertical-align: top;\n",
       "    }\n",
       "\n",
       "    .dataframe thead th {\n",
       "        text-align: right;\n",
       "    }\n",
       "</style>\n",
       "<table border=\"1\" class=\"dataframe\">\n",
       "  <thead>\n",
       "    <tr style=\"text-align: right;\">\n",
       "      <th></th>\n",
       "      <th>UNITID</th>\n",
       "      <th>USNEWSRANK</th>\n",
       "      <th>INSTNM</th>\n",
       "      <th>IALIAS</th>\n",
       "      <th>COUNTYNM</th>\n",
       "      <th>CITY</th>\n",
       "      <th>STABBR</th>\n",
       "      <th>ZIP</th>\n",
       "      <th>WEBADDR</th>\n",
       "      <th>CONTROL</th>\n",
       "      <th>...</th>\n",
       "      <th>ADMSSN</th>\n",
       "      <th>APPLCN</th>\n",
       "      <th>ACPTRT</th>\n",
       "      <th>EINSTRUCTIONAL</th>\n",
       "      <th>ERESEARCH</th>\n",
       "      <th>EPUBLIC</th>\n",
       "      <th>EACADEMIC</th>\n",
       "      <th>ESTUDENT</th>\n",
       "      <th>EINSTITUTIONAL</th>\n",
       "      <th>ENDOWMENT</th>\n",
       "    </tr>\n",
       "  </thead>\n",
       "  <tbody>\n",
       "    <tr>\n",
       "      <th>15</th>\n",
       "      <td>227757</td>\n",
       "      <td>16.0</td>\n",
       "      <td>Rice University</td>\n",
       "      <td></td>\n",
       "      <td>Harris County</td>\n",
       "      <td>Houston</td>\n",
       "      <td>TX</td>\n",
       "      <td>77005-1827</td>\n",
       "      <td>www.rice.edu/</td>\n",
       "      <td>2</td>\n",
       "      <td>...</td>\n",
       "      <td>2802.0</td>\n",
       "      <td>29544</td>\n",
       "      <td>0.094842</td>\n",
       "      <td>385114.559919</td>\n",
       "      <td>166601.878147</td>\n",
       "      <td>0.0</td>\n",
       "      <td>45049.007049</td>\n",
       "      <td>86138.364552</td>\n",
       "      <td>37134.339376</td>\n",
       "      <td>8.137253e+06</td>\n",
       "    </tr>\n",
       "  </tbody>\n",
       "</table>\n",
       "<p>1 rows × 39 columns</p>\n",
       "</div>"
      ],
      "text/plain": [
       "    UNITID  USNEWSRANK           INSTNM IALIAS       COUNTYNM     CITY STABBR  \\\n",
       "15  227757        16.0  Rice University         Harris County  Houston     TX   \n",
       "\n",
       "           ZIP        WEBADDR  CONTROL  ...  ADMSSN  APPLCN    ACPTRT  \\\n",
       "15  77005-1827  www.rice.edu/        2  ...  2802.0   29544  0.094842   \n",
       "\n",
       "    EINSTRUCTIONAL      ERESEARCH  EPUBLIC     EACADEMIC      ESTUDENT  \\\n",
       "15   385114.559919  166601.878147      0.0  45049.007049  86138.364552   \n",
       "\n",
       "    EINSTITUTIONAL     ENDOWMENT  \n",
       "15    37134.339376  8.137253e+06  \n",
       "\n",
       "[1 rows x 39 columns]"
      ]
     },
     "execution_count": 302,
     "metadata": {},
     "output_type": "execute_result"
    }
   ],
   "source": [
    "# Rice\n",
    "year_df[year_df[\"UNITID\"] == 227757]"
   ]
  }
 ],
 "metadata": {
  "kernelspec": {
   "display_name": "Python 3",
   "language": "python",
   "name": "python3"
  },
  "language_info": {
   "codemirror_mode": {
    "name": "ipython",
    "version": 3
   },
   "file_extension": ".py",
   "mimetype": "text/x-python",
   "name": "python",
   "nbconvert_exporter": "python",
   "pygments_lexer": "ipython3",
   "version": "3.11.1"
  },
  "orig_nbformat": 4,
  "vscode": {
   "interpreter": {
    "hash": "2236c9fa90506e5feb294f3f3c710ff589142236348e2b6f694d3535f32852cc"
   }
  }
 },
 "nbformat": 4,
 "nbformat_minor": 2
}
