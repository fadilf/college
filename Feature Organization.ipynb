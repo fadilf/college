{
 "cells": [
  {
   "cell_type": "code",
   "execution_count": null,
   "metadata": {},
   "outputs": [],
   "source": []
  }
 ],
 "metadata": {
  "kernelspec": {
   "display_name": "Python 3",
   "language": "python",
   "name": "python3"
  },
  "language_info": {
   "name": "python",
   "version": "3.11.1"
  },
  "orig_nbformat": 4,
  "vscode": {
   "interpreter": {
    "hash": "2236c9fa90506e5feb294f3f3c710ff589142236348e2b6f694d3535f32852cc"
   }
  }
 },
 "nbformat": 4,
 "nbformat_minor": 2
}
